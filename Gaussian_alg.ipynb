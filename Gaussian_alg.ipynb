{
  "nbformat": 4,
  "nbformat_minor": 0,
  "metadata": {
    "colab": {
      "provenance": [],
      "gpuType": "T4",
      "authorship_tag": "ABX9TyNfN8EgVjognkl3xIcbb5+0",
      "include_colab_link": true
    },
    "kernelspec": {
      "name": "python3",
      "display_name": "Python 3"
    },
    "language_info": {
      "name": "python"
    },
    "accelerator": "GPU"
  },
  "cells": [
    {
      "cell_type": "markdown",
      "metadata": {
        "id": "view-in-github",
        "colab_type": "text"
      },
      "source": [
        "<a href=\"https://colab.research.google.com/github/fhossain0/Linear_Equation_Algorithms/blob/main/Gaussian_alg.ipynb\" target=\"_parent\"><img src=\"https://colab.research.google.com/assets/colab-badge.svg\" alt=\"Open In Colab\"/></a>"
      ]
    },
    {
      "cell_type": "markdown",
      "source": [
        "This Notebook For the assignment of Gaussian Elimination Algorithem file\n",
        ""
      ],
      "metadata": {
        "id": "UstnCPiZt7h6"
      }
    },
    {
      "cell_type": "code",
      "source": [
        "print(\"heloo World\")"
      ],
      "metadata": {
        "colab": {
          "base_uri": "https://localhost:8080/"
        },
        "id": "MloHXi0EuFac",
        "outputId": "ef64d515-d3b7-44d4-ac99-85a3a8c2dae1"
      },
      "execution_count": 2,
      "outputs": [
        {
          "output_type": "stream",
          "name": "stdout",
          "text": [
            "heloo World\n"
          ]
        }
      ]
    },
    {
      "cell_type": "code",
      "source": [],
      "metadata": {
        "id": "UW3KDfVpuJI2"
      },
      "execution_count": null,
      "outputs": []
    }
  ]
}